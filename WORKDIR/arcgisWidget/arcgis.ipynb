{
 "cells": [
  {
   "cell_type": "code",
   "execution_count": 1,
   "id": "228c2706-5009-44ab-ba6e-87905afa14f7",
   "metadata": {},
   "outputs": [],
   "source": [
    "import anywidget\n",
    "import traitlets"
   ]
  },
  {
   "cell_type": "code",
   "execution_count": 94,
   "id": "88fbaab3-eb79-4cf6-b3ea-1cc537f3aac5",
   "metadata": {},
   "outputs": [],
   "source": [
    "import json\n",
    "\n",
    "with open('rupture.geojson') as json_file:\n",
    "    rupture = json.load(json_file)\n",
    "    json_file.close()\n",
    "\n",
    "with open('rupture2.geojson') as json_file:\n",
    "    rupture2 = json.load(json_file)\n",
    "    json_file.close()"
   ]
  },
  {
   "cell_type": "code",
   "execution_count": 120,
   "id": "3181eaba-cd4c-4c28-a70c-ee6c9eb6e2ff",
   "metadata": {},
   "outputs": [
    {
     "data": {
      "application/vnd.jupyter.widget-view+json": {
       "model_id": "b921e38e8d7a411f8eaf0e13466d9944",
       "version_major": 2,
       "version_minor": 1
      },
      "text/plain": [
       "ArcGisWidget()"
      ]
     },
     "execution_count": 120,
     "metadata": {},
     "output_type": "execute_result"
    }
   ],
   "source": [
    "class ArcGisWidget(anywidget.AnyWidget):\n",
    "    _esm = 'arcgis.js'\n",
    "    _css = 'arcgis.css'\n",
    "    geojson = traitlets.Dict().tag(sync=True)\n",
    "    width = traitlets.Unicode('100%').tag(sync=True, o=True)\n",
    "    height = traitlets.Unicode('600px').tag(sync=True, o=True)\n",
    "\n",
    "    def addGeoJson(self, data):\n",
    "        self.send({\"geojson\":data})\n",
    "\n",
    "    def addSelection(self, data):\n",
    "        self.send({\"selection\":data})\n",
    "\n",
    "map = ArcGisWidget()\n",
    "map"
   ]
  },
  {
   "cell_type": "code",
   "execution_count": 117,
   "id": "961a491e-c283-4f86-a9e0-000e7990d08b",
   "metadata": {},
   "outputs": [],
   "source": [
    "map.addSelection(rupture)\n"
   ]
  },
  {
   "cell_type": "code",
   "execution_count": 118,
   "id": "1445f7bd-ec00-4957-bc99-74d647d98e07",
   "metadata": {},
   "outputs": [],
   "source": [
    "map.addSelection(rupture2)"
   ]
  },
  {
   "cell_type": "code",
   "execution_count": 121,
   "id": "bf0fd1ef-4701-4235-bca7-818c4107e209",
   "metadata": {},
   "outputs": [],
   "source": [
    "with open('puysegur_patchmatches.json') as json_file:\n",
    "    patchMatches = json.load(json_file)\n",
    "    json_file.close()\n",
    "\n",
    "for patches in patchMatches:\n",
    "    map.addSelection(patches)\n"
   ]
  },
  {
   "cell_type": "code",
   "execution_count": 62,
   "id": "3580144a-ad81-4d19-b7d3-fb7fa814fa50",
   "metadata": {},
   "outputs": [],
   "source": [
    "import json\n",
    "from IPython.display import GeoJSON\n",
    "\n",
    "# NSHM libraries ..\n",
    "import nzshm_model as nm\n",
    "import solvis\n",
    "\n",
    "# we need a matching source_logic_tree (CBC do we really ???)\n",
    "slt = nm.get_model_version(\"NSHM_v1.0.4\").source_logic_tree\n",
    "\n",
    "# load the composite_solution using the source logic tree\n",
    "csol = solvis.CompositeSolution.from_archive(\"../NSHM_v1.0.4_CompositeSolution.zip\", slt)\n",
    "\n",
    "# get the the Crustal FaultSystemSolution\n",
    "fss = csol._solutions['CRU']"
   ]
  },
  {
   "cell_type": "code",
   "execution_count": 63,
   "id": "7da9cfe7-b776-41da-bbb5-4761a644fdd8",
   "metadata": {},
   "outputs": [],
   "source": [
    "fss = csol._solutions['CRU']\n",
    "gj = json.loads(fss.fault_surfaces().to_json())"
   ]
  },
  {
   "cell_type": "code",
   "execution_count": 14,
   "id": "c2078819-3dc8-42a2-a912-ec503a4f7b7a",
   "metadata": {},
   "outputs": [
    {
     "data": {
      "application/vnd.jupyter.widget-view+json": {
       "model_id": "56b286b14f614307bdc56bbc2fd42385",
       "version_major": 2,
       "version_minor": 1
      },
      "text/plain": [
       "ArcGisWidget()"
      ]
     },
     "execution_count": 14,
     "metadata": {},
     "output_type": "execute_result"
    }
   ],
   "source": [
    "faults = ArcGisWidget()\n",
    "\n",
    "faults"
   ]
  },
  {
   "cell_type": "code",
   "execution_count": 15,
   "id": "f1084e5d-012d-426d-8f9e-738710c44e17",
   "metadata": {},
   "outputs": [],
   "source": [
    "faults.addGeoJson(gj)"
   ]
  },
  {
   "cell_type": "code",
   "execution_count": 9,
   "id": "d4a346f1-215f-4850-8add-ff0a547547fb",
   "metadata": {},
   "outputs": [],
   "source": [
    "fss = csol._solutions['PUY']\n",
    "gj = json.loads(fss.fault_surfaces().to_json())"
   ]
  },
  {
   "cell_type": "code",
   "execution_count": 10,
   "id": "fd641f5a-399e-43b6-8b3a-561224d7c8c1",
   "metadata": {},
   "outputs": [],
   "source": [
    "faults.addGeoJson(gj)"
   ]
  },
  {
   "cell_type": "code",
   "execution_count": 64,
   "id": "09130446-1508-4af7-908f-f9e643533a8a",
   "metadata": {},
   "outputs": [],
   "source": [
    "map.addSelection(gj)"
   ]
  },
  {
   "cell_type": "code",
   "execution_count": null,
   "id": "65e0767a-9459-4d28-bf5e-c05206183a5f",
   "metadata": {},
   "outputs": [],
   "source": []
  }
 ],
 "metadata": {
  "kernelspec": {
   "display_name": "Python 3 (ipykernel)",
   "language": "python",
   "name": "python3"
  },
  "language_info": {
   "codemirror_mode": {
    "name": "ipython",
    "version": 3
   },
   "file_extension": ".py",
   "mimetype": "text/x-python",
   "name": "python",
   "nbconvert_exporter": "python",
   "pygments_lexer": "ipython3",
   "version": "3.11.9"
  }
 },
 "nbformat": 4,
 "nbformat_minor": 5
}
