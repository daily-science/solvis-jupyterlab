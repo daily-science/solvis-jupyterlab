{
 "cells": [
  {
   "cell_type": "code",
   "execution_count": 45,
   "id": "85eecae7-e0ab-4903-89f9-5b596f5d6a45",
   "metadata": {},
   "outputs": [],
   "source": [
    "import anywidget\n",
    "import traitlets"
   ]
  },
  {
   "cell_type": "code",
   "execution_count": 46,
   "id": "3b29e6f9-25a5-4b97-8701-f708ed2db975",
   "metadata": {},
   "outputs": [],
   "source": [
    "import json\n",
    "\n",
    "with open('../arcgisWidget/andy.geojson') as json_file:\n",
    "    rupture = json.load(json_file)\n",
    "    json_file.close()\n",
    "\n",
    "with open('rupture2.geojson') as json_file:\n",
    "    rupture2 = json.load(json_file)\n",
    "    json_file.close()"
   ]
  },
  {
   "cell_type": "code",
   "execution_count": 47,
   "id": "f4a958ff-ffec-4b43-b5b4-e91ca6e578c4",
   "metadata": {},
   "outputs": [],
   "source": [
    "class CesiumWidget(anywidget.AnyWidget):\n",
    "    _esm = 'cesium.js'\n",
    "    _css = 'cesium.css'\n",
    "    geojson = traitlets.Unicode('').tag(sync=True)\n",
    "    width = traitlets.Unicode('100%').tag(sync=True, o=True)\n",
    "    height = traitlets.Unicode('600px').tag(sync=True, o=True)\n",
    "\n",
    "    def addGeoJson(self, data):\n",
    "        self.send({\"geojson\":data})"
   ]
  },
  {
   "cell_type": "code",
   "execution_count": 48,
   "id": "99470cea-dc9f-45dc-afe6-275eef8ef8e5",
   "metadata": {
    "jupyter": {
     "source_hidden": true
    }
   },
   "outputs": [
    {
     "data": {
      "application/vnd.jupyter.widget-view+json": {
       "model_id": "eb86254f4f2e4b3992c11a15d9142e88",
       "version_major": 2,
       "version_minor": 1
      },
      "text/plain": [
       "CesiumWidget()"
      ]
     },
     "execution_count": 48,
     "metadata": {},
     "output_type": "execute_result"
    }
   ],
   "source": [
    "map = CesiumWidget()\n",
    "map"
   ]
  },
  {
   "cell_type": "code",
   "execution_count": 49,
   "id": "414d10ed-504c-4628-9d8c-74ac3b6a3060",
   "metadata": {},
   "outputs": [],
   "source": [
    "map.addGeoJson(rupture)"
   ]
  },
  {
   "cell_type": "code",
   "execution_count": 17,
   "id": "1a4fa9f4-1e54-4a25-86ab-0c0e62e63fb9",
   "metadata": {},
   "outputs": [],
   "source": [
    "map.addGeoJson(rupture2)"
   ]
  },
  {
   "cell_type": "code",
   "execution_count": null,
   "id": "eb303f0f-bdea-437b-93df-d22a296dc1d5",
   "metadata": {},
   "outputs": [],
   "source": []
  }
 ],
 "metadata": {
  "kernelspec": {
   "display_name": "Python 3 (ipykernel)",
   "language": "python",
   "name": "python3"
  },
  "language_info": {
   "codemirror_mode": {
    "name": "ipython",
    "version": 3
   },
   "file_extension": ".py",
   "mimetype": "text/x-python",
   "name": "python",
   "nbconvert_exporter": "python",
   "pygments_lexer": "ipython3",
   "version": "3.11.9"
  }
 },
 "nbformat": 4,
 "nbformat_minor": 5
}
